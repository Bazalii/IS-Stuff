{
  "nbformat": 4,
  "nbformat_minor": 0,
  "metadata": {
    "colab": {
      "provenance": [],
      "toc_visible": true
    },
    "kernelspec": {
      "name": "python3",
      "display_name": "Python 3"
    },
    "language_info": {
      "name": "python"
    }
  },
  "cells": [
    {
      "cell_type": "markdown",
      "source": [
        "# Лабораторная работа 5\n",
        "\n"
      ],
      "metadata": {
        "id": "YP5NWq6jPFVE"
      }
    },
    {
      "cell_type": "code",
      "execution_count": null,
      "metadata": {
        "id": "SErbRGkvQV8h"
      },
      "outputs": [],
      "source": [
        "import sys\n",
        "import numpy as np"
      ]
    },
    {
      "cell_type": "code",
      "source": [
        "class Simplex:\n",
        "    eps = 1 / 10**8\n",
        "\n",
        "    def __init__(self, source):\n",
        "        self.n = len(source)\n",
        "        self.m = len(source[0])\n",
        "        opt_func = source[self.n - 1]\n",
        "        \n",
        "        self.create_table_with_synthetic_basis(source)\n",
        "        self.calculate()\n",
        "\n",
        "        all_null = True\n",
        "        for j in range(self.m - self.n + 1):\n",
        "            if self.table[self.n - 1][j] > Simplex.eps:\n",
        "                all_null = False\n",
        "                break\n",
        "        if not all_null:\n",
        "            print(\"В результате получения первого опорного плана не все искусственные переменные равны нулю. \", \"Решений нет!\")\n",
        "            sys.exit()\n",
        "\n",
        "        new_table = [[0] * (self.m - self.n + 1) for i in range(self.n)]\n",
        "        for i in range(len(new_table)):\n",
        "            for j in range(len(new_table[0])):\n",
        "                new_table[i][j] = self.table[i][j]\n",
        "\n",
        "        for j in range(len(new_table[0])):\n",
        "            sum_col = 0\n",
        "            for i in range(len(new_table) - 1):\n",
        "                sum_col += new_table[i][j] * opt_func[self.basis[i]]\n",
        "            new_table[len(new_table) - 1][j] = sum_col - opt_func[j]\n",
        "        new_table[len(new_table) - 1] = list(np.array(new_table[len(new_table) - 1]) * (-1))\n",
        "\n",
        "        self.table = new_table\n",
        "        self.n = len(self.table)\n",
        "        self.m = len(self.table[0])\n",
        "\n",
        "    def calculate(self):\n",
        "        while not self.is_end():\n",
        "            main_col = self.find_main_col()\n",
        "            main_row = self.find_main_row(main_col)\n",
        "\n",
        "            if main_row == -1:\n",
        "                print(\"Не удалось выбрать опорный элемент. Задача не имеет решений, так как ОДР не ограничена\")\n",
        "                sys.exit()\n",
        "\n",
        "            self.basis[main_row] = main_col\n",
        "            self.make_step(main_row, main_col)\n",
        "\n",
        "        result = [0 for i in range(self.m - 1)]\n",
        "        for i in range(len(self.basis)):\n",
        "            if self.basis[i] <= self.m - 1:\n",
        "                result[self.basis[i] - 1] = self.table[i][0]\n",
        "        return [self.table, result]\n",
        "\n",
        "    def is_end(self):\n",
        "        flag = True\n",
        "        for j in range(1, self.m):\n",
        "            if self.table[self.n - 1][j] < -Simplex.eps:\n",
        "                flag = False\n",
        "                break\n",
        "        return flag\n",
        "\n",
        "    def find_main_col(self):\n",
        "        main_col = 1\n",
        "        for j in range(2, self.m):\n",
        "            if self.table[self.n - 1][j] < self.table[self.n - 1][main_col]:\n",
        "                main_col = j\n",
        "        return main_col\n",
        "\n",
        "    def find_main_row(self, main_col):\n",
        "        main_row = -1\n",
        "        for i in range(self.n - 1):\n",
        "            if self.table[i][main_col] > Simplex.eps:\n",
        "                main_row = i\n",
        "                break\n",
        "\n",
        "        if main_row == -1:\n",
        "            return -1\n",
        "\n",
        "        for i in range(main_row + 1, self.n - 1):\n",
        "            if (self.table[i][main_col] > Simplex.eps) and (self.table[i][0] / self.table[i][main_col] < self.table[main_row][0] / self.table[main_row][main_col]):\n",
        "                main_row = i\n",
        "\n",
        "        return main_row\n",
        "\n",
        "    def make_step(self, main_row, main_col):\n",
        "        new_table = [[0] * self.m for i in range(self.n)]\n",
        "\n",
        "        for j in range(self.m):\n",
        "            new_table[main_row][j] = self.table[main_row][j] / self.table[main_row][main_col]\n",
        "\n",
        "        for i in range(self.n):\n",
        "            if i == main_row:\n",
        "                continue\n",
        "\n",
        "            for j in range(self.m):\n",
        "                new_table[i][j] = self.table[i][j] - (self.table[main_row][j] / self.table[main_row][main_col]) * self.table[i][main_col]\n",
        "                new_table[i][j] = new_table[i][j]\n",
        "\n",
        "        self.table = new_table\n",
        "\n",
        "    def create_table_with_synthetic_basis(self, source):\n",
        "        self.basis = list()\n",
        "        self.table = [[0] * (self.m + self.n - 1) for i in range(self.n)]\n",
        "\n",
        "        # create first table\n",
        "        for i in range(self.n):\n",
        "            for j in range(len(self.table[0])):\n",
        "                if j < self.m:\n",
        "                    self.table[i][j] = source[i][j]\n",
        "                else:\n",
        "                    self.table[i][j] = 0\n",
        "\n",
        "            # add basis\n",
        "            if (self.m + i) < len(self.table[0]):\n",
        "                self.table[i][self.m + i] = 1\n",
        "                self.basis.append(self.m + i)\n",
        "\n",
        "        self.m = len(self.table[0])\n",
        "\n",
        "        for j in range(self.m):\n",
        "            sum = 0\n",
        "            for i in range(self.n - 1):\n",
        "                sum -= self.table[i][j]\n",
        "            self.table[self.n - 1][j] = sum\n",
        "        for basis_col in self.basis:\n",
        "            self.table[self.n - 1][basis_col] = 0"
      ],
      "metadata": {
        "id": "ZAER6I2UQcSz"
      },
      "execution_count": null,
      "outputs": []
    },
    {
      "cell_type": "code",
      "source": [
        "class LinearProgrammingTask:\n",
        "    def __init__(self, f, restrictions, max_min):\n",
        "        if not (len(f) + 1 == len(restrictions[0]) and (max_min == \"max\" or max_min == \"min\")):\n",
        "            print(\"bad task data\")\n",
        "            sys.exit()\n",
        "\n",
        "        self.f = list(f)\n",
        "        for i in range(len(f) - 1, 0, -1):\n",
        "            f[i], f[i - 1] = f[i - 1], f[i]\n",
        "        \n",
        "        # reversing\n",
        "        if max_min == \"max\":\n",
        "            f = np.array(f) * (-1)\n",
        "\n",
        "        table = np.array([[0.0] * (len(restrictions[0]) - 1) for i in range(len(restrictions) + 1)])\n",
        "        table[len(restrictions)] = list(f)\n",
        "        for i in range(len(restrictions)):\n",
        "            for j in range(len(restrictions[0])):\n",
        "                if j < len(restrictions[0]) - 2:\n",
        "                    table[i][j + 1] = restrictions[i][j]\n",
        "                elif j == len(restrictions[0]) - 2:\n",
        "                    table[i][0] = restrictions[i][j + 1]\n",
        "\n",
        "        # change '>=' to '<='\n",
        "        for i in range(len(restrictions)):\n",
        "            if restrictions[i][len(restrictions[0]) - 2] == \">=\":\n",
        "                table[i] = list(np.array(table[i]) * (-1))\n",
        "\n",
        "        # change '<=' to '='\n",
        "        for i in range(len(restrictions)):\n",
        "            if restrictions[i][len(restrictions[0]) - 2] != \"=\":\n",
        "                new_column = np.zeros(len(restrictions) + 1)\n",
        "                new_column[i] = 1\n",
        "                table = np.column_stack((table, new_column))\n",
        "\n",
        "        # change b to positive\n",
        "        for i in range(len(table)):\n",
        "            if table[i][0] < 0:\n",
        "                table[i] = list(np.array(table[i]) * (-1))\n",
        "        self.table = table\n",
        "\n",
        "    def solve(self):\n",
        "        simplex = Simplex(source=self.table)\n",
        "        result_table, result = simplex.calculate()\n",
        "        end_result = []\n",
        "        result_f = 0\n",
        "        for i in range(len(self.f) - 1):\n",
        "            end_result.append(round(result[i], 4))\n",
        "            result_f += self.f[i] * end_result[i]\n",
        "        print(\"RESULT:\")\n",
        "        print(end_result)\n",
        "        print(\"f= \" + str(result_f))"
      ],
      "metadata": {
        "id": "Fhnhd9HsQcxm"
      },
      "execution_count": null,
      "outputs": []
    },
    {
      "cell_type": "markdown",
      "source": [
        "## Тестовые задания"
      ],
      "metadata": {
        "id": "Y8gFFSpXQmKC"
      }
    },
    {
      "cell_type": "code",
      "source": [
        "test = LinearProgrammingTask(\n",
        "    f=[1, 1, 0],\n",
        "    restrictions=[[3, 5, \"<=\", 30],\n",
        "                  [4, -3, \"<=\", 12],\n",
        "                  [1, -3, \">=\", 6]],\n",
        "    max_min=\"max\")\n",
        "test.solve()"
      ],
      "metadata": {
        "id": "stoTcTDloSvR",
        "colab": {
          "base_uri": "https://localhost:8080/",
          "height": 172
        },
        "outputId": "a7fa0f01-8739-43aa-fbcb-52dfe0e97591"
      },
      "execution_count": null,
      "outputs": [
        {
          "output_type": "stream",
          "name": "stdout",
          "text": [
            "В результате получения первого опорного плана не все искусственные переменные равны нулю.  Решений нет!\n"
          ]
        },
        {
          "output_type": "error",
          "ename": "SystemExit",
          "evalue": "ignored",
          "traceback": [
            "An exception has occurred, use %tb to see the full traceback.\n",
            "\u001b[0;31mSystemExit\u001b[0m\n"
          ]
        },
        {
          "output_type": "stream",
          "name": "stderr",
          "text": [
            "/usr/local/lib/python3.8/dist-packages/IPython/core/interactiveshell.py:3334: UserWarning: To exit: use 'exit', 'quit', or Ctrl-D.\n",
            "  warn(\"To exit: use 'exit', 'quit', or Ctrl-D.\", stacklevel=1)\n"
          ]
        }
      ]
    },
    {
      "cell_type": "code",
      "source": [
        "\n",
        "task1 = LinearProgrammingTask(\n",
        "    f=[-6, -1, -4, 5, 0],\n",
        "    restrictions=[[3, 1, -1, 1, \"=\", 4],\n",
        "                  [5, 1, 1, -1, \"=\", 4]],\n",
        "    max_min=\"min\")\n",
        "task1.solve()"
      ],
      "metadata": {
        "colab": {
          "base_uri": "https://localhost:8080/"
        },
        "id": "7qCmHqq1QoMl",
        "outputId": "b50c076b-a9e7-492a-fbb0-d31aa7d77737"
      },
      "execution_count": null,
      "outputs": [
        {
          "output_type": "stream",
          "name": "stdout",
          "text": [
            "RESULT:\n",
            "[0, 4.0, 0.0, 0]\n",
            "f= -4.0\n"
          ]
        }
      ]
    },
    {
      "cell_type": "code",
      "source": [
        "task2 = LinearProgrammingTask(\n",
        "    f=[-1, -2, -3, 1, 0],\n",
        "    restrictions=[[1, -3, -1, -2, \"=\", -4],\n",
        "                  [1, -1, 1, 0, \"=\", 0]],\n",
        "    max_min=\"min\")\n",
        "task2.solve()"
      ],
      "metadata": {
        "colab": {
          "base_uri": "https://localhost:8080/"
        },
        "id": "oYKfz9mElc3Q",
        "outputId": "751aa7ce-52eb-478c-fb8c-85e1c549d4da"
      },
      "execution_count": null,
      "outputs": [
        {
          "output_type": "stream",
          "name": "stdout",
          "text": [
            "RESULT:\n",
            "[2.0, 2.0, 0, 0]\n",
            "f= -6.0\n"
          ]
        }
      ]
    },
    {
      "cell_type": "code",
      "source": [
        "task3 = LinearProgrammingTask(\n",
        "    f=[-1, -2, -1, 3, -1, 0],\n",
        "    restrictions=[[1, 1, 0, 2, 1, \"=\", 5],\n",
        "                  [1, 1, 1, 3, 2, \"=\", 9],\n",
        "                  [0, 1, 1, 2, 1, \"=\", 6]],\n",
        "    max_min=\"min\")\n",
        "task3.solve()"
      ],
      "metadata": {
        "colab": {
          "base_uri": "https://localhost:8080/"
        },
        "id": "L4vybg0IlLI6",
        "outputId": "733bd342-2ca8-4a76-95db-c02c738e37ac"
      },
      "execution_count": null,
      "outputs": [
        {
          "output_type": "stream",
          "name": "stdout",
          "text": [
            "RESULT:\n",
            "[3.0, 2.0, 4.0, 0, 0]\n",
            "f= -11.0\n"
          ]
        }
      ]
    },
    {
      "cell_type": "code",
      "source": [
        "task4 = LinearProgrammingTask(\n",
        "    f=[-1, -1, -1, 1, -1, 0],\n",
        "    restrictions=[[1, 1, 2, 0, 0, \"=\", 4],\n",
        "                  [0, -2, -2, 1, -1, \"=\", -6],\n",
        "                  [1, -1, 6, 1, 1, \"=\", 12]],\n",
        "    max_min=\"min\")\n",
        "task4.solve()"
      ],
      "metadata": {
        "id": "p_cuOfwHl0zC",
        "colab": {
          "base_uri": "https://localhost:8080/"
        },
        "outputId": "72118579-c34b-4acf-8feb-8ca233b2ab37"
      },
      "execution_count": null,
      "outputs": [
        {
          "output_type": "stream",
          "name": "stdout",
          "text": [
            "RESULT:\n",
            "[4.0, 0, 0, 1.0, 7.0]\n",
            "f= -10.0\n"
          ]
        }
      ]
    },
    {
      "cell_type": "code",
      "source": [
        "task5 = LinearProgrammingTask(\n",
        "    f=[-1, 4, -3, 10, 0],\n",
        "    restrictions=[[1, 1, -1, -10, \"=\", 0],\n",
        "                  [1, 14, 10, -10, \"=\", 11]],\n",
        "    max_min=\"min\"\n",
        ")\n",
        "task5.solve()"
      ],
      "metadata": {
        "colab": {
          "base_uri": "https://localhost:8080/"
        },
        "id": "W4ha2MOrZCby",
        "outputId": "74dd5d3e-6ce3-4774-b7fd-692efe5d0b11"
      },
      "execution_count": null,
      "outputs": [
        {
          "output_type": "stream",
          "name": "stdout",
          "text": [
            "RESULT:\n",
            "[1.0, 0, 1.0, 0]\n",
            "f= -4.0\n"
          ]
        }
      ]
    },
    {
      "cell_type": "code",
      "source": [
        "task6 = LinearProgrammingTask(\n",
        "    f=[-1, 5, 1, -1, 0],\n",
        "    restrictions=[[1, 3, 3, 1, \"<=\", 3],\n",
        "                  [2, 0, 3, -1, \"<=\", 4]],\n",
        "    max_min=\"min\"\n",
        ")\n",
        "task6.solve()"
      ],
      "metadata": {
        "colab": {
          "base_uri": "https://localhost:8080/"
        },
        "id": "vGCrZAI2ZHVE",
        "outputId": "f0b45192-8349-46da-83dd-1f4c2f78500f"
      },
      "execution_count": null,
      "outputs": [
        {
          "output_type": "stream",
          "name": "stdout",
          "text": [
            "RESULT:\n",
            "[2.3333, 0, 0, 0.6667]\n",
            "f= -3.0\n"
          ]
        }
      ]
    },
    {
      "cell_type": "code",
      "source": [
        "task7 = LinearProgrammingTask(\n",
        "    f=[-1, -1, 1, -1, 2, 0],\n",
        "    restrictions=[[3, 1, 1, 1, -2, \"=\", 10],\n",
        "                  [6, 1, 2, 3, -4, \"=\", 20],\n",
        "                  [10, 1, 3, 6, -7, \"=\", 30]],\n",
        "    max_min=\"min\"\n",
        ")\n",
        "task7.solve()"
      ],
      "metadata": {
        "colab": {
          "base_uri": "https://localhost:8080/"
        },
        "id": "NxqZB56NZKmP",
        "outputId": "6b9cc754-c9aa-4e1f-923b-8760b4ebf9e0"
      },
      "execution_count": null,
      "outputs": [
        {
          "output_type": "stream",
          "name": "stdout",
          "text": [
            "RESULT:\n",
            "[0.0, 0, 10.0, 0.0, 0]\n",
            "f= 10.0\n"
          ]
        }
      ]
    },
    {
      "cell_type": "markdown",
      "source": [
        "## Вопросы на защиту"
      ],
      "metadata": {
        "id": "ct7C5p15PYK7"
      }
    },
    {
      "cell_type": "code",
      "source": [
        "test_task_1 = LinearProgrammingTask(\n",
        "    f=[-3, -2, 0],\n",
        "    restrictions=[[1, 2, \"<=\", 7],\n",
        "                  [2, 1, \"<=\", 8],\n",
        "                  [0, 1, \"<=\", 3]],\n",
        "    max_min=\"min\"\n",
        ")\n",
        "test_task_1.solve()"
      ],
      "metadata": {
        "colab": {
          "base_uri": "https://localhost:8080/"
        },
        "id": "q4g2APtPM6Hy",
        "outputId": "66bc2baa-a48d-44fa-c09c-28e8339164de"
      },
      "execution_count": null,
      "outputs": [
        {
          "output_type": "stream",
          "name": "stdout",
          "text": [
            "RESULT:\n",
            "[3.0, 2.0]\n",
            "f= -13.0\n"
          ]
        }
      ]
    },
    {
      "cell_type": "code",
      "source": [
        "# test_task_2 = LinearProgrammingTask(\n",
        "#     f=[-1, -2, 0],\n",
        "#     restrictions=[[1, 1, \">=\", 1],\n",
        "#                   [2, -1, \">=\", -1],\n",
        "#                   [1, -2, \"<=\", 0]],\n",
        "#     max_min=\"min\"\n",
        "# )\n",
        "# test_task_2.solve()"
      ],
      "metadata": {
        "id": "n9e0UW-FNCas"
      },
      "execution_count": null,
      "outputs": []
    },
    {
      "cell_type": "code",
      "source": [
        "test_task_3 = LinearProgrammingTask(\n",
        "    f=[-5, 4, -1, -3, -5, 0],\n",
        "    restrictions=[[3, -1, 0, 2, 1, \"=\", 5],\n",
        "                  [2, -3, 1, 2, 1, \"=\", 6],\n",
        "                  [3, -1, 1, 3, 2, \"=\", 9]],\n",
        "    max_min=\"min\"\n",
        ")\n",
        "test_task_3.solve()"
      ],
      "metadata": {
        "colab": {
          "base_uri": "https://localhost:8080/"
        },
        "id": "RP6kVXefNCvi",
        "outputId": "51ae1a76-6506-447a-fa7d-8135931ac13d"
      },
      "execution_count": null,
      "outputs": [
        {
          "output_type": "stream",
          "name": "stdout",
          "text": [
            "RESULT:\n",
            "[1.0, 0, 2.0, 0, 2.0]\n",
            "f= -17.0\n"
          ]
        }
      ]
    },
    {
      "cell_type": "code",
      "source": [
        "test_task_4 = LinearProgrammingTask(\n",
        "    f=[-1, 3, 0],\n",
        "    restrictions=[[1, 2, \"<=\", 4],\n",
        "                  [1, -1, \">=\", 1],\n",
        "                  [1, 1, \"<=\", 8]],\n",
        "    max_min=\"max\"\n",
        ")\n",
        "test_task_4.solve()"
      ],
      "metadata": {
        "colab": {
          "base_uri": "https://localhost:8080/"
        },
        "id": "y3u1kcZuN_IK",
        "outputId": "3c6f2666-f228-4b0e-a808-b5ca4fbf6750"
      },
      "execution_count": null,
      "outputs": [
        {
          "output_type": "stream",
          "name": "stdout",
          "text": [
            "RESULT:\n",
            "[2.0, 1.0]\n",
            "f= 1.0\n"
          ]
        }
      ]
    },
    {
      "cell_type": "markdown",
      "source": [
        "# Лабораторная работа 2"
      ],
      "metadata": {
        "id": "jdGDX0ezM6wC"
      }
    },
    {
      "cell_type": "markdown",
      "source": [
        "## Задание 2"
      ],
      "metadata": {
        "id": "0sMaaL0_Drtv"
      }
    },
    {
      "cell_type": "code",
      "source": [
        "lab2_task2 = LinearProgrammingTask(\n",
        "    f=[8, 7, 12, 13, 0],\n",
        "    restrictions=[[10, 0, 13, 0, \"=\", 230],\n",
        "                  [0, 12, 0, 13, \"=\", 68],\n",
        "                  [1, 1, 0, 0, \"<=\", 24],\n",
        "                  [0, 0, 1, 1, \"<=\", 24]],\n",
        "    max_min=\"min\"\n",
        ")\n",
        "lab2_task2.solve()"
      ],
      "metadata": {
        "colab": {
          "base_uri": "https://localhost:8080/"
        },
        "id": "6iS3TiMBWwtp",
        "outputId": "3cb9caaf-aac3-40c3-8ef3-b588d987be5f"
      },
      "execution_count": null,
      "outputs": [
        {
          "output_type": "stream",
          "name": "stdout",
          "text": [
            "RESULT:\n",
            "[18.3333, 5.6667, 3.5897, 0]\n",
            "f= 229.40970000000002\n"
          ]
        }
      ]
    },
    {
      "cell_type": "markdown",
      "source": [
        "## Задание 3"
      ],
      "metadata": {
        "id": "3HH-982UDymV"
      }
    },
    {
      "cell_type": "code",
      "source": [
        "lab2_task3 = LinearProgrammingTask(\n",
        "    f=[12, 8, 0],\n",
        "    restrictions=[[40, 10, \">=\", 1000],\n",
        "                  [1.25, 2.5, \">=\", 100],\n",
        "                  [2, 1, \">=\", 80],\n",
        "                  [1, 1, \">=\", 60]],\n",
        "    max_min=\"min\"\n",
        ")\n",
        "lab2_task3.solve()"
      ],
      "metadata": {
        "colab": {
          "base_uri": "https://localhost:8080/"
        },
        "id": "tgMXm21Fvbx4",
        "outputId": "29c45576-c22b-4994-a287-058f8bd11921"
      },
      "execution_count": null,
      "outputs": [
        {
          "output_type": "stream",
          "name": "stdout",
          "text": [
            "RESULT:\n",
            "[20.0, 40.0]\n",
            "f= 560.0\n"
          ]
        }
      ]
    },
    {
      "cell_type": "markdown",
      "source": [
        "## Задание 4"
      ],
      "metadata": {
        "id": "Qe-RmITtD1Fv"
      }
    },
    {
      "cell_type": "code",
      "source": [
        "lab2_task4_1 = LinearProgrammingTask(\n",
        "    f=[1, 1, 0],\n",
        "    restrictions=[[4, 2, \"<=\", 1],\n",
        "                  [2, 3, \"<=\", 1]],\n",
        "    max_min=\"max\"\n",
        ")\n",
        "lab2_task4_1.solve()"
      ],
      "metadata": {
        "colab": {
          "base_uri": "https://localhost:8080/"
        },
        "id": "c7uT9YEnvgNR",
        "outputId": "1590cb7a-5a98-44d3-9a9f-1fe68cc75ef8"
      },
      "execution_count": null,
      "outputs": [
        {
          "output_type": "stream",
          "name": "stdout",
          "text": [
            "RESULT:\n",
            "[0.125, 0.25]\n",
            "f= 0.375\n"
          ]
        }
      ]
    },
    {
      "cell_type": "code",
      "source": [
        "lab2_task4_2 = LinearProgrammingTask(\n",
        "    f=[1, 1, 0],\n",
        "    restrictions=[[4, 2, \">=\", 1],\n",
        "                  [2, 3, \">=\", 1]],\n",
        "    max_min=\"min\"\n",
        ")\n",
        "lab2_task4_2.solve()"
      ],
      "metadata": {
        "colab": {
          "base_uri": "https://localhost:8080/"
        },
        "id": "tFzwfCM-EABm",
        "outputId": "e27a30a0-2e31-4393-c46f-2fd190ceece0"
      },
      "execution_count": null,
      "outputs": [
        {
          "output_type": "stream",
          "name": "stdout",
          "text": [
            "RESULT:\n",
            "[0.125, 0.25]\n",
            "f= 0.375\n"
          ]
        }
      ]
    },
    {
      "cell_type": "markdown",
      "source": [
        "## Задание 5"
      ],
      "metadata": {
        "id": "dJLbE4QjD3Y2"
      }
    },
    {
      "cell_type": "code",
      "source": [
        "lab2_task5_1 = LinearProgrammingTask(\n",
        "    f=[1, 1, 0],\n",
        "    restrictions=[[8, 4, \"<=\", 1],\n",
        "                  [4, 8, \"<=\", 1],\n",
        "                  [6, 5, \"<=\", 1]],\n",
        "    max_min=\"max\"\n",
        ")\n",
        "lab2_task5_1.solve()"
      ],
      "metadata": {
        "colab": {
          "base_uri": "https://localhost:8080/"
        },
        "id": "rO6B5HHcvn0p",
        "outputId": "99f631df-00cc-43eb-e14b-3d7255204620"
      },
      "execution_count": null,
      "outputs": [
        {
          "output_type": "stream",
          "name": "stdout",
          "text": [
            "RESULT:\n",
            "[0.0833, 0.0833]\n",
            "f= 0.1666\n"
          ]
        }
      ]
    },
    {
      "cell_type": "code",
      "source": [
        "lab2_task5_2 = LinearProgrammingTask(\n",
        "    f=[1, 1, 1, 0],\n",
        "    restrictions=[[8, 4, 6, \">=\", 1],\n",
        "                  [4, 8, 5, \">=\", 1]],\n",
        "    max_min=\"min\"\n",
        ")\n",
        "lab2_task5_2.solve()"
      ],
      "metadata": {
        "colab": {
          "base_uri": "https://localhost:8080/"
        },
        "id": "YPwmW3LNG3Bm",
        "outputId": "07835da2-8e81-421a-a7b3-e704dce834c9"
      },
      "execution_count": null,
      "outputs": [
        {
          "output_type": "stream",
          "name": "stdout",
          "text": [
            "RESULT:\n",
            "[0.0833, 0.0833, 0]\n",
            "f= 0.1666\n"
          ]
        }
      ]
    },
    {
      "cell_type": "markdown",
      "source": [
        "## Задание 6"
      ],
      "metadata": {
        "id": "evW07vkJD41W"
      }
    },
    {
      "cell_type": "code",
      "source": [
        "lab2_task6_1 = LinearProgrammingTask(\n",
        "    f=[1, 1, 1, 1, 0],\n",
        "    restrictions=[[7, 2, 5, 3, \"<=\", 1],\n",
        "                  [2, 2, 3, 2, \"<=\", 1],\n",
        "                  [5, 3, 4, 1, \"<=\", 1],\n",
        "                  [1, 4, 4, 6, \"<=\", 1]],\n",
        "    max_min=\"max\"\n",
        ")\n",
        "lab2_task6_1.solve()"
      ],
      "metadata": {
        "colab": {
          "base_uri": "https://localhost:8080/"
        },
        "id": "E-JhBzUuvrYL",
        "outputId": "7c43af1e-e852-4643-fe7f-bcf8a171cb28"
      },
      "execution_count": null,
      "outputs": [
        {
          "output_type": "stream",
          "name": "stdout",
          "text": [
            "RESULT:\n",
            "[0.0769, 0.1978, 0, 0.022]\n",
            "f= 0.2967\n"
          ]
        }
      ]
    },
    {
      "cell_type": "code",
      "source": [
        "lab2_task6_2 = LinearProgrammingTask(\n",
        "    f=[1, 1, 1, 1, 0],\n",
        "    restrictions=[[7, 2, 5, 1, \">=\", 1],\n",
        "                  [2, 2, 3, 4, \">=\", 1],\n",
        "                  [5, 3, 4, 4, \">=\", 1],\n",
        "                  [3, 2, 1, 6, \">=\", 1]],\n",
        "    max_min=\"min\"\n",
        ")\n",
        "lab2_task6_2.solve()"
      ],
      "metadata": {
        "id": "uqGcGvlDvule",
        "colab": {
          "base_uri": "https://localhost:8080/"
        },
        "outputId": "f5cc155f-f4c5-4680-bba7-1096ba813504"
      },
      "execution_count": null,
      "outputs": [
        {
          "output_type": "stream",
          "name": "stdout",
          "text": [
            "RESULT:\n",
            "[0.022, 0, 0.1429, 0.1319]\n",
            "f= 0.29679999999999995\n"
          ]
        }
      ]
    },
    {
      "cell_type": "markdown",
      "source": [
        "## Задание 8"
      ],
      "metadata": {
        "id": "_wOJkZMpU-Cv"
      }
    },
    {
      "cell_type": "code",
      "source": [
        "lab2_task8_1 = LinearProgrammingTask(\n",
        "    f=[1, 1, 0],\n",
        "    restrictions=[[7, 1, \">=\", 1],\n",
        "                  [2, 11, \">=\", 1]],\n",
        "    max_min=\"min\"\n",
        ")\n",
        "lab2_task8_1.solve()"
      ],
      "metadata": {
        "id": "wFOFGVmEvxnn",
        "colab": {
          "base_uri": "https://localhost:8080/"
        },
        "outputId": "45762207-69f2-4cbf-fb72-140024c2d4df"
      },
      "execution_count": null,
      "outputs": [
        {
          "output_type": "stream",
          "name": "stdout",
          "text": [
            "RESULT:\n",
            "[0.1333, 0.0667]\n",
            "f= 0.2\n"
          ]
        }
      ]
    },
    {
      "cell_type": "code",
      "source": [
        "lab2_task8_1 = LinearProgrammingTask(\n",
        "    f=[1, 1, 0],\n",
        "    restrictions=[[7, 2, \"<=\", 1],\n",
        "                  [1, 11, \"<=\", 1]],\n",
        "    max_min=\"max\"\n",
        ")\n",
        "lab2_task8_1.solve()"
      ],
      "metadata": {
        "colab": {
          "base_uri": "https://localhost:8080/"
        },
        "id": "lqFOHfMd6Skh",
        "outputId": "f802b4e2-47d2-4153-b03c-26c36a1ad2b5"
      },
      "execution_count": null,
      "outputs": [
        {
          "output_type": "stream",
          "name": "stdout",
          "text": [
            "RESULT:\n",
            "[0.12, 0.08]\n",
            "f= 0.2\n"
          ]
        }
      ]
    },
    {
      "cell_type": "markdown",
      "source": [
        "## Задание 9"
      ],
      "metadata": {
        "id": "_BjKHhdq_rC4"
      }
    },
    {
      "cell_type": "code",
      "source": [
        "lab2_task9_1 = LinearProgrammingTask(\n",
        "    f=[1, 1, 1, 0],\n",
        "    restrictions=[[7, 2, 3, \"<=\", 1],\n",
        "                  [5, 3, 1, \"<=\", 1],\n",
        "                  [1, 4, 6, \"<=\", 1]],\n",
        "    max_min=\"max\"\n",
        ")\n",
        "lab2_task9_1.solve()"
      ],
      "metadata": {
        "colab": {
          "base_uri": "https://localhost:8080/"
        },
        "id": "UpDSYGUZ_tsY",
        "outputId": "ef27d60e-4b83-4334-8488-b11dc870a3fa"
      },
      "execution_count": null,
      "outputs": [
        {
          "output_type": "stream",
          "name": "stdout",
          "text": [
            "RESULT:\n",
            "[0.0769, 0.1978, 0.022]\n",
            "f= 0.2967\n"
          ]
        }
      ]
    },
    {
      "cell_type": "code",
      "source": [
        "lab2_task9_1 = LinearProgrammingTask(\n",
        "    f=[1, 1, 1, 0],\n",
        "    restrictions=[[7, 5, 1, \">=\", 1],\n",
        "                  [2, 3, 4, \">=\", 1],\n",
        "                  [3, 1, 6, \">=\", 1]],\n",
        "    max_min=\"min\"\n",
        ")\n",
        "lab2_task9_1.solve()"
      ],
      "metadata": {
        "colab": {
          "base_uri": "https://localhost:8080/"
        },
        "id": "6U3oFHvnAJkA",
        "outputId": "3442b090-c087-4656-d2c0-e23e7dd9d85c"
      },
      "execution_count": null,
      "outputs": [
        {
          "output_type": "stream",
          "name": "stdout",
          "text": [
            "RESULT:\n",
            "[0.022, 0.1429, 0.1319]\n",
            "f= 0.29679999999999995\n"
          ]
        }
      ]
    },
    {
      "cell_type": "code",
      "source": [
        "lab2_task8_1 = LinearProgrammingTask(\n",
        "    f=[1, 1, 0],\n",
        "    restrictions=[[0, 1, \">=\", 1],\n",
        "                  [0.5, 0, \">=\", 1]],\n",
        "    max_min=\"min\"\n",
        ")\n",
        "lab2_task8_1.solve()"
      ],
      "metadata": {
        "colab": {
          "base_uri": "https://localhost:8080/"
        },
        "id": "7zjmpyTL7EHT",
        "outputId": "7cfd5529-63b9-425b-f99b-297da6d2c769"
      },
      "execution_count": null,
      "outputs": [
        {
          "output_type": "stream",
          "name": "stdout",
          "text": [
            "RESULT:\n",
            "[2.0, 1.0]\n",
            "f= 3.0\n"
          ]
        }
      ]
    }
  ]
}